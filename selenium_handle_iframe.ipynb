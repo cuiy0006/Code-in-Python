{
 "cells": [
  {
   "cell_type": "code",
   "execution_count": 1,
   "metadata": {
    "collapsed": true
   },
   "outputs": [],
   "source": [
    "from selenium import webdriver\n",
    "from selenium.webdriver.common.keys import Keys\n",
    "from bs4 import BeautifulSoup\n",
    "import time\n",
    "##### UPDATE Chromedriver to latest Verson, or cannot set window size"
   ]
  },
  {
   "cell_type": "code",
   "execution_count": 6,
   "metadata": {
    "collapsed": true
   },
   "outputs": [],
   "source": [
    "headers= {'User-Agent': 'Mozilla/5.0 (Windows NT 6.1) AppleWebKit/537.36 (KHTML, like Gecko) Chrome/41.0.2228.0 Safari/537.36'}\n",
    "web_url = 'http://music.163.com'\n",
    "\n",
    "driver = webdriver.Chrome()\n",
    "driver.maximize_window()\n",
    "driver.get(web_url)\n",
    "\n",
    "#search 'The Beatles' in Search Box\n",
    "search = driver.find_element_by_id('g_search')\n",
    "input = search.find_element_by_tag_name('input')\n",
    "input.clear()\n",
    "input.send_keys('The Beatles')\n",
    "input.send_keys(Keys.ENTER)\n",
    "\n",
    "#switch to iframe, click 'singer' tab\n",
    "driver.switch_to.frame('g_iframe')\n",
    "m_search = driver.find_element_by_id('m-search')\n",
    "tabs = m_search.find_elements_by_tag_name(\"li\")\n",
    "singer = tabs[1]\n",
    "singer.click()\n",
    "\n",
    "#click 'The Beatles' image(span)\n",
    "time.sleep(2)\n",
    "beatles = m_search.find_element_by_xpath(\".//span[@title='The Beatles']\")\n",
    "beatles.click()\n",
    "\n",
    "#click 'album' tab\n",
    "time.sleep(2)\n",
    "#driver.switch_to.frame('g_iframe')\n",
    "m_tabs = driver.find_element_by_id('m_tabs')\n",
    "tabs = driver.find_elements_by_tag_name('li')\n",
    "all_album = tabs[1]\n",
    "all_album.click()"
   ]
  },
  {
   "cell_type": "code",
   "execution_count": null,
   "metadata": {
    "collapsed": true
   },
   "outputs": [],
   "source": []
  }
 ],
 "metadata": {
  "kernelspec": {
   "display_name": "Python 3",
   "language": "python",
   "name": "python3"
  },
  "language_info": {
   "codemirror_mode": {
    "name": "ipython",
    "version": 3
   },
   "file_extension": ".py",
   "mimetype": "text/x-python",
   "name": "python",
   "nbconvert_exporter": "python",
   "pygments_lexer": "ipython3",
   "version": "3.6.3"
  }
 },
 "nbformat": 4,
 "nbformat_minor": 2
}
