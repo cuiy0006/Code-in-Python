{
 "cells": [
  {
   "cell_type": "code",
   "execution_count": 2,
   "metadata": {
    "collapsed": true
   },
   "outputs": [],
   "source": [
    "import requests\n",
    "import urllib"
   ]
  },
  {
   "cell_type": "code",
   "execution_count": 96,
   "metadata": {},
   "outputs": [
    {
     "name": "stdout",
     "output_type": "stream",
     "text": [
      "200\n",
      "{'Connection': 'keep-alive', 'Server': 'meinheld/0.6.1', 'Date': 'Sun, 22 Oct 2017 22:12:44 GMT', 'Content-Type': 'application/json', 'Access-Control-Allow-Origin': '*', 'Access-Control-Allow-Credentials': 'true', 'X-Powered-By': 'Flask', 'X-Processed-Time': '0.000805139541626', 'Content-Length': '265', 'Via': '1.1 vegur'}\n",
      "{'User-Agent': 'python-requests/2.14.2', 'Accept-Encoding': 'gzip, deflate', 'Accept': '*/*', 'Connection': 'keep-alive'}\n"
     ]
    }
   ],
   "source": [
    "#Requests get\n",
    "r = requests.get(\"http://httpbin.org/get\")\n",
    "print(r.status_code)\n",
    "print(r.headers)\n",
    "print(r.request.headers)"
   ]
  },
  {
   "cell_type": "code",
   "execution_count": 18,
   "metadata": {},
   "outputs": [
    {
     "data": {
      "text/plain": [
       "{'args': {'key1': 'value1', 'key2': 'value2'},\n",
       " 'headers': {'Accept': '*/*',\n",
       "  'Accept-Encoding': 'gzip, deflate',\n",
       "  'Connection': 'close',\n",
       "  'Host': 'httpbin.org',\n",
       "  'User-Agent': 'python-requests/2.14.2'},\n",
       " 'origin': '67.81.29.215',\n",
       " 'url': 'http://httpbin.org/get?key1=value1&key2=value2'}"
      ]
     },
     "execution_count": 18,
     "metadata": {},
     "output_type": "execute_result"
    }
   ],
   "source": [
    "#Requests get with arguments\n",
    "payload = {'key1': 'value1', 'key2': 'value2'}\n",
    "r = requests.get(\"http://httpbin.org/get\", params=payload)\n",
    "r.json()"
   ]
  },
  {
   "cell_type": "code",
   "execution_count": 35,
   "metadata": {},
   "outputs": [
    {
     "data": {
      "text/plain": [
       "{'args': {'key1': 'value1', 'key2': 'value2'},\n",
       " 'headers': {'Accept': '*/*',\n",
       "  'Accept-Encoding': 'gzip, deflate',\n",
       "  'Connection': 'close',\n",
       "  'Host': 'httpbin.org',\n",
       "  'User-Agent': 'Mozilla/5.0 (Windows NT 6.1) AppleWebKit/537.36 (KHTML, like Gecko) Chrome/41.0.2228.0 Safari/537.36'},\n",
       " 'origin': '67.81.29.215',\n",
       " 'url': 'http://httpbin.org/get?key1=value1&key2=value2'}"
      ]
     },
     "execution_count": 35,
     "metadata": {},
     "output_type": "execute_result"
    }
   ],
   "source": [
    "#Requests get add header\n",
    "get_params = {'key1': 'value1', 'key2': 'value2'}\n",
    "headers = {'User-Agent': 'Mozilla/5.0 (Windows NT 6.1) AppleWebKit/537.36 (KHTML, like Gecko) Chrome/41.0.2228.0 Safari/537.36'}\n",
    "#all headers, http://www.useragentstring.com/pages/useragentstring.php\n",
    "\n",
    "r = requests.get(\"http://httpbin.org/get\", params=get_params, headers=headers)\n",
    "r.json()"
   ]
  },
  {
   "cell_type": "code",
   "execution_count": 36,
   "metadata": {},
   "outputs": [
    {
     "data": {
      "text/plain": [
       "{'args': {'key1': 'value1', 'key2': 'value2'},\n",
       " 'data': '',\n",
       " 'files': {},\n",
       " 'form': {'key3': 'value3', 'key4': 'value4'},\n",
       " 'headers': {'Accept': '*/*',\n",
       "  'Accept-Encoding': 'gzip, deflate',\n",
       "  'Connection': 'close',\n",
       "  'Content-Length': '23',\n",
       "  'Content-Type': 'application/x-www-form-urlencoded',\n",
       "  'Host': 'httpbin.org',\n",
       "  'User-Agent': 'Mozilla/6.0 (iPhone; CPU iPhone OS 8_0 like Mac OS X) AppleWebKit/536.26 (KHTML, like Gecko) Version/8.0 Mobile/10A5376e Safari/8536.25'},\n",
       " 'json': None,\n",
       " 'origin': '67.81.29.215',\n",
       " 'url': 'http://httpbin.org/post?key1=value1&key2=value2'}"
      ]
     },
     "execution_count": 36,
     "metadata": {},
     "output_type": "execute_result"
    }
   ],
   "source": [
    "#Requests post, with get, with argument, add header\n",
    "get_params = {'key1': 'value1', 'key2': 'value2'}\n",
    "post_params = {'key3': 'value3', 'key4': 'value4'}\n",
    "headers = {'User-Agent': 'Mozilla/6.0 (iPhone; CPU iPhone OS 8_0 like Mac OS X) AppleWebKit/536.26 (KHTML, like Gecko) Version/8.0 Mobile/10A5376e Safari/8536.25'}\n",
    "\n",
    "r = requests.post(\"http://httpbin.org/post\", data=post_params, params=get_params, headers=headers)\n",
    "r.json()"
   ]
  },
  {
   "cell_type": "code",
   "execution_count": 53,
   "metadata": {},
   "outputs": [
    {
     "data": {
      "text/plain": [
       "['TS016d18b4']"
      ]
     },
     "execution_count": 53,
     "metadata": {},
     "output_type": "execute_result"
    }
   ],
   "source": [
    "#Requests cookies\n",
    "#read\n",
    "r = requests.get('http://www.sina.com')\n",
    "r.cookies.keys()"
   ]
  },
  {
   "cell_type": "code",
   "execution_count": 61,
   "metadata": {},
   "outputs": [
    {
     "data": {
      "text/plain": [
       "b'{\\n  \"cookies\": {\\n    \"cookies_are\": \"working\"\\n  }\\n}\\n'"
      ]
     },
     "execution_count": 61,
     "metadata": {},
     "output_type": "execute_result"
    }
   ],
   "source": [
    "#send\n",
    "cookies = {'cookies_are': 'working'}\n",
    "r = requests.get('http://httpbin.org/cookies', cookies=cookies)\n",
    "r.content"
   ]
  },
  {
   "cell_type": "code",
   "execution_count": 71,
   "metadata": {},
   "outputs": [
    {
     "name": "stdout",
     "output_type": "stream",
     "text": [
      "https://github.com/\n",
      "[<Response [301]>, <Response [301]>]\n"
     ]
    }
   ],
   "source": [
    "#redirect & history\n",
    "r = requests.get('http://www.github.com')\n",
    "print(r.url)\n",
    "print(r.history)"
   ]
  },
  {
   "cell_type": "code",
   "execution_count": 70,
   "metadata": {},
   "outputs": [
    {
     "name": "stdout",
     "output_type": "stream",
     "text": [
      "<Response [301]>\n",
      "[]\n"
     ]
    }
   ],
   "source": [
    "#disable redirect\n",
    "r = requests.get('http://www.github.com', allow_redirects=False)\n",
    "print(r)\n",
    "print(r.history)"
   ]
  },
  {
   "cell_type": "code",
   "execution_count": 90,
   "metadata": {},
   "outputs": [
    {
     "name": "stdout",
     "output_type": "stream",
     "text": [
      "{\n",
      "  \"cookies\": {\n",
      "    \"sessioncookie\": \"123456789\"\n",
      "  }\n",
      "}\n",
      "\n",
      "{\n",
      "  \"cookies\": {\n",
      "    \"sessioncookie\": \"123456789\"\n",
      "  }\n",
      "}\n",
      "\n"
     ]
    }
   ],
   "source": [
    "#session persists parameters and cookies\n",
    "s = requests.Session()\n",
    "r = s.get('http://httpbin.org/cookies/set/sessioncookie/123456789')\n",
    "print(r.text)\n",
    "r = s.get('http://httpbin.org/cookies')\n",
    "print(r.text)"
   ]
  },
  {
   "cell_type": "code",
   "execution_count": 6,
   "metadata": {},
   "outputs": [
    {
     "name": "stdout",
     "output_type": "stream",
     "text": [
      "<Response [200]>\n"
     ]
    }
   ],
   "source": [
    " #Requests proxy\n",
    "proxies = {\n",
    "  'http': 'http://54.64.14.230:80',\n",
    "  'https': 'http://62.250.84.188:80',\n",
    "}\n",
    "\n",
    "r = requests.get('http://example.org', proxies=proxies)\n",
    "print(r)"
   ]
  },
  {
   "cell_type": "code",
   "execution_count": null,
   "metadata": {
    "collapsed": true
   },
   "outputs": [],
   "source": []
  }
 ],
 "metadata": {
  "kernelspec": {
   "display_name": "Python 3",
   "language": "python",
   "name": "python3"
  },
  "language_info": {
   "codemirror_mode": {
    "name": "ipython",
    "version": 3
   },
   "file_extension": ".py",
   "mimetype": "text/x-python",
   "name": "python",
   "nbconvert_exporter": "python",
   "pygments_lexer": "ipython3",
   "version": "3.6.1"
  }
 },
 "nbformat": 4,
 "nbformat_minor": 2
}
