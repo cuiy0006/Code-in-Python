{
 "cells": [
  {
   "cell_type": "code",
   "execution_count": null,
   "metadata": {
    "collapsed": true
   },
   "outputs": [],
   "source": [
    "# main\n",
    "from flask import Flask, request, render_template\n",
    "\n",
    "app = Flask(__name__)\n",
    "\n",
    "@app.route('/', methods=['GET', 'POST'])\n",
    "def home():\n",
    "\treturn render_template('home.html')\n",
    "\n",
    "@app.route('/signin', methods=['GET'])\n",
    "def sigin_form():\n",
    "\treturn render_template('form.html')\n",
    "\n",
    "@app.route('/signin', methods=['POST'])\n",
    "def signin():\n",
    "\tif request.form['username']=='admin' and request.form['password']=='password':\n",
    "\t\treturn render_template('signin-ok.html', username=request.form['username'])\n",
    "\treturn render_template('form.html', message='Bad username or password')\n",
    "\n",
    "if __name__=='__main__':\n",
    "\tapp.run()"
   ]
  },
  {
   "cell_type": "code",
   "execution_count": null,
   "metadata": {
    "collapsed": true
   },
   "outputs": [],
   "source": [
    "#form.html\n",
    "<!DOCTYPE html>\n",
    "\n",
    "<html lang=\"en\" xmlns=\"http://www.w3.org/1999/xhtml\">\n",
    "<head>\n",
    "    <meta charset=\"utf-8\" />\n",
    "    <title></title>\n",
    "</head>\n",
    "<body>\n",
    "    {% if message %}\n",
    "    <p style=\"color:red\">{{ message }}</p>\n",
    "    {% endif %}\n",
    "    <form action=\"/signin\" method=\"post\">\n",
    "        <p><input name=\"username\" placeholder=\"Username\" value=\"{{ username }}\"></p>\n",
    "        <p><input name=\"password\" placeholder=\"Password\" type=\"password\"></p>\n",
    "        <p><button type=\"submit\">Sign In</button></p>\n",
    "    </form>\n",
    "\n",
    "</body>\n",
    "</html>\n",
    "\n",
    "#home.html\n",
    "<!DOCTYPE html>\n",
    "\n",
    "<html lang=\"en\" xmlns=\"http://www.w3.org/1999/xhtml\">\n",
    "<head>\n",
    "    <meta charset=\"utf-8\" />\n",
    "    <title></title>\n",
    "</head>\n",
    "<body>\n",
    "    <h1>Home</h1>\n",
    "</body>\n",
    "</html>\n",
    "\n",
    "#signin-ok.html\n",
    "<!DOCTYPE html>\n",
    "\n",
    "<html lang=\"en\" xmlns=\"http://www.w3.org/1999/xhtml\">\n",
    "<head>\n",
    "    <meta charset=\"utf-8\" />\n",
    "    <title>welcome, {{username}}</title>\n",
    "</head>\n",
    "<body>\n",
    "\n",
    "</body>\n",
    "</html>"
   ]
  }
 ],
 "metadata": {
  "kernelspec": {
   "display_name": "Python 3",
   "language": "python",
   "name": "python3"
  },
  "language_info": {
   "codemirror_mode": {
    "name": "ipython",
    "version": 3
   },
   "file_extension": ".py",
   "mimetype": "text/x-python",
   "name": "python",
   "nbconvert_exporter": "python",
   "pygments_lexer": "ipython3",
   "version": "3.6.0"
  }
 },
 "nbformat": 4,
 "nbformat_minor": 2
}
