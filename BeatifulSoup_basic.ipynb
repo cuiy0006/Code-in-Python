{
 "cells": [
  {
   "cell_type": "code",
   "execution_count": 1,
   "metadata": {
    "collapsed": true
   },
   "outputs": [],
   "source": [
    "#beautiful soup convert html(or xml) into tree structure, nodes' type includes Tag, NavigableString, BeautifulSoup, Comment\n",
    "#common use: find(), findall(), find_next_siblings(), fin\n",
    "#            find_parent(), find_parents()\n",
    "#            find_next_sibling(), find_next_siblings()\n",
    "#            find_all_next(), find_next()\n",
    "#            find_all_previous(), find_previous()"
   ]
  },
  {
   "cell_type": "code",
   "execution_count": 27,
   "metadata": {
    "collapsed": true
   },
   "outputs": [],
   "source": [
    "from bs4 import BeautifulSoup\n",
    "import bs4\n",
    "\n",
    "html_doc = \"\"\"\n",
    "<html><head><title>The Dormouse's story</title></head>\n",
    "<body>\n",
    "<p class=\"title\"><b>The Dormouse's story</b></p>\n",
    "<p class=\"story\">Once upon a time there were three little sisters; and their names were\n",
    "<a href=\"http://example.com/elsie\" class=\"sister\" id=\"link1\">Elsie</a>,\n",
    "<a href=\"http://example.com/lacie\" class=\"sister\" id=\"link2\">Lacie</a> and\n",
    "<a href=\"http://example.com/tillie\" class=\"sister\" id=\"link3\">Tillie</a>;\n",
    "and they lived at the bottom of a well.</p>\n",
    "<p class=\"story\">...</p>\n",
    "\"\"\"\n",
    "soup = BeautifulSoup(html_doc, 'lxml')"
   ]
  },
  {
   "cell_type": "code",
   "execution_count": 4,
   "metadata": {},
   "outputs": [
    {
     "name": "stdout",
     "output_type": "stream",
     "text": [
      "find's return type: <class 'bs4.element.Tag'>\n",
      "find's content: <p class=\"title\"><b>The Dormouse's story</b></p>\n",
      "find's Tag Name: p\n",
      "find's Attribute(class): ['title']\n",
      "find's NavigableString: The Dormouse's story\n"
     ]
    }
   ],
   "source": [
    "#find Tag\n",
    "find = soup.find('p')\n",
    "print(\"find's return type:\", type(find))\n",
    "print(\"find's content:\", find)\n",
    "print(\"find's Tag Name:\", find.name)\n",
    "print(\"find's Attribute(class):\", find['class'])\n",
    "print(\"find's NavigableString:\", find.string)"
   ]
  },
  {
   "cell_type": "code",
   "execution_count": 52,
   "metadata": {},
   "outputs": [
    {
     "name": "stdout",
     "output_type": "stream",
     "text": [
      "<p class=\"title\"><b>The Dormouse's story</b></p>\n",
      "<p class=\"story\">Once upon a time there were three little sisters; and their names were\n",
      "<a class=\"sister\" href=\"http://example.com/elsie\" id=\"link1\">Elsie</a>,\n",
      "<a class=\"sister\" href=\"http://example.com/lacie\" id=\"link2\">Lacie</a> and\n",
      "<a class=\"sister\" href=\"http://example.com/tillie\" id=\"link3\">Tillie</a>;\n",
      "and they lived at the bottom of a well.</p>\n",
      "<p class=\"story\">...</p>\n"
     ]
    }
   ],
   "source": [
    "#find_all Tag\n",
    "finds = soup.find_all('p') # equivalent to findAll()\n",
    "for find in finds:\n",
    "    print(find)"
   ]
  },
  {
   "cell_type": "code",
   "execution_count": 34,
   "metadata": {},
   "outputs": [
    {
     "name": "stdout",
     "output_type": "stream",
     "text": [
      "Hey, buddy. Want to buy a used parser?\n",
      "True\n"
     ]
    }
   ],
   "source": [
    "#comment(.string)\n",
    "markup = \"<b><!--Hey, buddy. Want to buy a used parser?--></b>\"\n",
    "soup_with_comment = BeautifulSoup(markup, 'lxml')\n",
    "comment = soup_with_comment.string\n",
    "print(comment)\n",
    "print(type(comment) is bs4.element.Comment)"
   ]
  },
  {
   "cell_type": "code",
   "execution_count": 18,
   "metadata": {},
   "outputs": [
    {
     "name": "stdout",
     "output_type": "stream",
     "text": [
      "<a class=\"sister\" href=\"http://example.com/elsie\" id=\"link1\">Elsie</a>\n",
      "<head><title>The Dormouse's story</title></head>\n",
      "<p class=\"title\"><b>The Dormouse's story</b></p>\n"
     ]
    }
   ],
   "source": [
    "#find first <X> node\n",
    "print(soup.a)\n",
    "print(soup.head)\n",
    "print(soup.p)"
   ]
  },
  {
   "cell_type": "code",
   "execution_count": 32,
   "metadata": {},
   "outputs": [
    {
     "name": "stdout",
     "output_type": "stream",
     "text": [
      "#all nodes in the tree\n",
      "p\n",
      "b\n",
      "p\n",
      "a\n",
      "a\n",
      "a\n",
      "p\n",
      "#all children\n",
      "None\n",
      "p\n",
      "None\n",
      "p\n",
      "None\n",
      "p\n",
      "None\n"
     ]
    }
   ],
   "source": [
    "#traverse node's children\n",
    "find = soup.body\n",
    "print('#all nodes in the tree')\n",
    "for child in find.findChildren():\n",
    "    print(child.name)\n",
    "\n",
    "print('#all children')\n",
    "for child in find.children:\n",
    "    print(child.name)\n",
    "#why None? -> white space before and after node"
   ]
  },
  {
   "cell_type": "code",
   "execution_count": 55,
   "metadata": {},
   "outputs": [
    {
     "name": "stdout",
     "output_type": "stream",
     "text": [
      "body\n",
      "html\n",
      "[document]\n",
      "#\n",
      "body\n"
     ]
    }
   ],
   "source": [
    "#traverse node's parents\n",
    "find = soup.find('p', {'class', 'story'})\n",
    "for parent in find.findParents(): #equivalent to find.parents, find_parents\n",
    "    if parent is None:\n",
    "        print(parent)\n",
    "    else:\n",
    "        print(parent.name)\n",
    "print('#')\n",
    "print(find.findParent().name) # equivalent to find_parent()"
   ]
  },
  {
   "cell_type": "code",
   "execution_count": 56,
   "metadata": {},
   "outputs": [
    {
     "name": "stdout",
     "output_type": "stream",
     "text": [
      "'\\n'\n",
      "<p class=\"story\">...</p>\n",
      "'\\n'\n",
      "#\n",
      "'\\n'\n",
      "<p class=\"title\"><b>The Dormouse's story</b></p>\n",
      "'\\n'\n"
     ]
    }
   ],
   "source": [
    "#traverse node's siblings\n",
    "#print(\"node's next sibling:\", find.next_sibling) ???\n",
    "#print(\"node's previous sibling:\", find.previous_sibling) ???\n",
    "for sibling in find.next_siblings:\n",
    "    print(repr(sibling))\n",
    "print('#')\n",
    "for sibling in find.previous_siblings:\n",
    "    print(repr(sibling))\n",
    "    \n",
    "#The idea of repr is to give a string which contains a series of \n",
    "#symbols which we can type in the interpreter and \n",
    "#get the same value which was sent as an argument to repr\n",
    "#encode with repr()\n",
    "#decode with eval()"
   ]
  },
  {
   "cell_type": "code",
   "execution_count": 60,
   "metadata": {},
   "outputs": [
    {
     "name": "stdout",
     "output_type": "stream",
     "text": [
      "[<title>The Dormouse's story</title>]\n",
      "#\n",
      "[<p class=\"title\"><b>The Dormouse's story</b></p>]\n",
      "#\n",
      "[<a class=\"sister\" href=\"http://example.com/elsie\" id=\"link1\">Elsie</a>, <a class=\"sister\" href=\"http://example.com/lacie\" id=\"link2\">Lacie</a>, <a class=\"sister\" href=\"http://example.com/tillie\" id=\"link3\">Tillie</a>]\n",
      "#\n",
      "[<a class=\"sister\" href=\"http://example.com/lacie\" id=\"link2\">Lacie</a>]\n",
      "#\n",
      "['Once upon a time there were three little sisters; and their names were\\n']\n"
     ]
    }
   ],
   "source": [
    "#find_all details\n",
    "#find_all( name , attrs , recursive , string , **kwargs )\n",
    "#name 参数：可以查找所有名字为 name 的tag。\n",
    "#attr 参数：就是tag里的属性。\n",
    "#string 参数：搜索文档中字符串的内容。\n",
    "#recursive 参数： 调用tag的 find_all() 方法时，Beautiful Soup会检索当前tag的所有子孙节点。如果只想搜索tag的直接子节点，可以使用参数 recursive=False 。\n",
    "print(soup.find_all('title'))\n",
    "print('#')\n",
    "print(soup.find_all('p', 'title'))\n",
    "print('#')\n",
    "print(soup.find_all('a'))\n",
    "print('#')\n",
    "print(soup.find_all(id='link2'))\n",
    "print('#')\n",
    "import re\n",
    "print(soup.find_all(string = re.compile('sister')))"
   ]
  },
  {
   "cell_type": "code",
   "execution_count": 61,
   "metadata": {},
   "outputs": [
    {
     "name": "stdout",
     "output_type": "stream",
     "text": [
      "<title>The Dormouse's story</title>\n",
      "#\n",
      "<title>The Dormouse's story</title>\n"
     ]
    }
   ],
   "source": [
    "#find details\n",
    "#find( name , attrs , recursive , string , **kwargs )\n",
    "print(soup.find('title'))\n",
    "print('#')\n",
    "print(soup.find('head').find('title'))"
   ]
  },
  {
   "cell_type": "code",
   "execution_count": null,
   "metadata": {
    "collapsed": true
   },
   "outputs": [],
   "source": []
  }
 ],
 "metadata": {
  "kernelspec": {
   "display_name": "Python 3",
   "language": "python",
   "name": "python3"
  },
  "language_info": {
   "codemirror_mode": {
    "name": "ipython",
    "version": 3
   },
   "file_extension": ".py",
   "mimetype": "text/x-python",
   "name": "python",
   "nbconvert_exporter": "python",
   "pygments_lexer": "ipython3",
   "version": "3.6.1"
  }
 },
 "nbformat": 4,
 "nbformat_minor": 2
}
