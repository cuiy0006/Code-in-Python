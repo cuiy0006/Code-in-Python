{
 "cells": [
  {
   "cell_type": "code",
   "execution_count": 1,
   "metadata": {
    "collapsed": false
   },
   "outputs": [
    {
     "name": "stdout",
     "output_type": "stream",
     "text": [
      "first consumer execution. 11111111111111111\n",
      "first produce execution\n",
      "[Producer] produces 1...\n",
      "After yield\n",
      "[Consumer] consumes 1...\n",
      "[Producer] consumer return: 200 OK\n",
      "[Producer] produces 2...\n",
      "After yield\n",
      "[Consumer] consumes 2...\n",
      "[Producer] consumer return: 200 OK\n",
      "[Producer] produces 3...\n",
      "After yield\n",
      "[Consumer] consumes 3...\n",
      "[Producer] consumer return: 200 OK\n",
      "[Producer] produces 4...\n",
      "After yield\n",
      "[Consumer] consumes 4...\n",
      "[Producer] consumer return: 200 OK\n",
      "[Producer] produces 5...\n",
      "After yield\n",
      "[Consumer] consumes 5...\n",
      "[Producer] consumer return: 200 OK\n"
     ]
    }
   ],
   "source": [
    "def consumer():\n",
    "\tr = ''\n",
    "\tprint('first consumer execution. 11111111111111111')\n",
    "\twhile True:\n",
    "\t\tn = yield r #\n",
    "\t\tprint('After yield')\n",
    "\t\tif not n:\n",
    "\t\t\treturn\n",
    "\t\tprint('[Consumer] consumes %s...' % n)\n",
    "\t\tr = '200 OK'\n",
    "\n",
    "def produce(c):\n",
    "\tc.send(None)\n",
    "\tprint('first produce execution')\n",
    "\tn = 0\n",
    "\twhile n < 5:\n",
    "\t\tn = n + 1\n",
    "\t\tprint('[Producer] produces %s...' %n)\n",
    "\t\tr = c.send(n)\n",
    "\t\tprint('[Producer] consumer return: %s' %r)\n",
    "\tc.close()\n",
    "\n",
    "c = consumer()\n",
    "produce(c)"
   ]
  },
  {
   "cell_type": "code",
   "execution_count": null,
   "metadata": {
    "collapsed": true
   },
   "outputs": [],
   "source": []
  }
 ],
 "metadata": {
  "kernelspec": {
   "display_name": "Python 3",
   "language": "python",
   "name": "python3"
  },
  "language_info": {
   "codemirror_mode": {
    "name": "ipython",
    "version": 3
   },
   "file_extension": ".py",
   "mimetype": "text/x-python",
   "name": "python",
   "nbconvert_exporter": "python",
   "pygments_lexer": "ipython3",
   "version": "3.6.0"
  }
 },
 "nbformat": 4,
 "nbformat_minor": 2
}
