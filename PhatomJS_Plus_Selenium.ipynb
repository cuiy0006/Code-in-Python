{
 "cells": [
  {
   "cell_type": "code",
   "execution_count": 1,
   "metadata": {
    "collapsed": true
   },
   "outputs": [],
   "source": [
    "#PhatomJS read JS load page\n",
    "#Selecnium simulate user operation\n",
    "#conda install -c conda-forge phantomjs \n",
    "#conda install -c conda-forge selenium\n",
    "#conda install -c clinicalgraphics selenium-chromedriver \n",
    "#PhatomJS是一个WebKit内核的浏览器引擎，它能像浏览器一样（它就是一个浏览器，只不过没有界面）解析网页，以及运行JavaScript脚本。"
   ]
  },
  {
   "cell_type": "code",
   "execution_count": 9,
   "metadata": {
    "collapsed": true,
    "scrolled": true
   },
   "outputs": [],
   "source": [
    "from selenium import webdriver\n",
    "from selenium.webdriver.common.keys import Keys"
   ]
  },
  {
   "cell_type": "code",
   "execution_count": 12,
   "metadata": {},
   "outputs": [],
   "source": [
    "driver = webdriver.Chrome() #pop up chrome window\n",
    "driver.get(\"http://www.python.org\")\n",
    "assert('Python' in driver.title)\n",
    "elem = driver.find_element_by_name('q') #search bar\n",
    "elem.clear()\n",
    "elem.send_keys('pycon') #input content\n",
    "#elem.send_keys(Keys.RETURN) #press enter on keyboard\n",
    "btn = driver.find_element_by_id('submit') #equivalent to press ENTER\n",
    "btn.click()\n",
    "\n",
    "#scroll down to bottom\n",
    "driver.execute_script(\"window.scrollTo(0, document.body.scrollHeight);\")\n",
    "\n",
    "assert('No result found' not in driver.page_source)\n",
    "#driver.close()"
   ]
  },
  {
   "cell_type": "code",
   "execution_count": null,
   "metadata": {
    "collapsed": true
   },
   "outputs": [],
   "source": [
    "#element = driver.find_element_by_xpath(\"//input[@id='passwd-id']\")\n",
    "#for single element\n",
    "find_element_by_id\n",
    "find_element_by_name\n",
    "find_element_by_xpath\n",
    "find_element_by_link_text\n",
    "find_element_by_partial_link_text\n",
    "find_element_by_tag_name\n",
    "find_element_by_class_name\n",
    "find_element_by_css_selector\n",
    "#for multiple elements\n",
    "find_elements_by_name\n",
    "find_elements_by_xpath\n",
    "find_elements_by_link_text\n",
    "find_elements_by_partial_link_text\n",
    "find_elements_by_tag_name\n",
    "find_elements_by_class_name\n",
    "find_elements_by_css_selector"
   ]
  },
  {
   "cell_type": "code",
   "execution_count": null,
   "metadata": {
    "collapsed": true
   },
   "outputs": [],
   "source": [
    "#html <select> </select> drop down\n",
    "from selenium.webdriver.support.ui import Select\n",
    "select = Select(driver.find_element_by_name('name'))\n",
    "select.select_by_index(index)\n",
    "select.select_by_visual_text('text')\n",
    "select.select_by_value()"
   ]
  },
  {
   "cell_type": "code",
   "execution_count": 11,
   "metadata": {
    "collapsed": true
   },
   "outputs": [],
   "source": [
    "#cookies\n",
    "driver = webdriver.Chrome()\n",
    "driver.get('http://www.example.com')\n",
    "cookie = {'name':'foo', 'value':'bar'}\n",
    "driver.add_cookie(cookie)"
   ]
  },
  {
   "cell_type": "code",
   "execution_count": null,
   "metadata": {
    "collapsed": true
   },
   "outputs": [],
   "source": []
  }
 ],
 "metadata": {
  "kernelspec": {
   "display_name": "Python 3",
   "language": "python",
   "name": "python3"
  },
  "language_info": {
   "codemirror_mode": {
    "name": "ipython",
    "version": 3
   },
   "file_extension": ".py",
   "mimetype": "text/x-python",
   "name": "python",
   "nbconvert_exporter": "python",
   "pygments_lexer": "ipython3",
   "version": "3.6.3"
  }
 },
 "nbformat": 4,
 "nbformat_minor": 2
}
