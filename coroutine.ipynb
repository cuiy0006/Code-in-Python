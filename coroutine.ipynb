{
 "cells": [
  {
   "cell_type": "code",
   "execution_count": 2,
   "metadata": {
    "collapsed": false
   },
   "outputs": [
    {
     "name": "stdout",
     "output_type": "stream",
     "text": [
      "[6, 10]\n"
     ]
    }
   ],
   "source": [
    "#yield from as a return value\n",
    "def accumulate():\n",
    "\ttally = 0\n",
    "\twhile 1:\n",
    "\t\tnext = yield 1\n",
    "\t\tif next == None:\n",
    "\t\t\treturn tally # terminate the generator\n",
    "\t\ttally += next\n",
    "\n",
    "def gather_tallies(tallies):\n",
    "\twhile 1:\n",
    "\t\tres = yield from accumulate() # yield from get \"return value\", send get \"yield value\"\n",
    "\t\ttallies.append(res)\n",
    "\n",
    "tallies = []\n",
    "g = gather_tallies(tallies)\n",
    "\n",
    "g.send(None) #initialize, make generator prepare to receive first parameter\n",
    "for i in range(4):\n",
    "\tg.send(i)\n",
    "\n",
    "g.send(None) #finish first generator\n",
    "for i in range(5):\n",
    "\tg.send(i)\n",
    "g.send(None) #finish second generator\n",
    "print(tallies)"
   ]
  },
  {
   "cell_type": "code",
   "execution_count": 3,
   "metadata": {
    "collapsed": false
   },
   "outputs": [
    {
     "name": "stdout",
     "output_type": "stream",
     "text": [
      "first consumer execution. 11111111111111111\n",
      "first produce execution\n",
      "[Producer] produces 1...\n",
      "After yield\n",
      "[Consumer] consumes 1...\n",
      "[Producer] consumer return: 200 OK\n",
      "[Producer] produces 2...\n",
      "After yield\n",
      "[Consumer] consumes 2...\n",
      "[Producer] consumer return: 200 OK\n",
      "[Producer] produces 3...\n",
      "After yield\n",
      "[Consumer] consumes 3...\n",
      "[Producer] consumer return: 200 OK\n",
      "[Producer] produces 4...\n",
      "After yield\n",
      "[Consumer] consumes 4...\n",
      "[Producer] consumer return: 200 OK\n",
      "[Producer] produces 5...\n",
      "After yield\n",
      "[Consumer] consumes 5...\n",
      "[Producer] consumer return: 200 OK\n"
     ]
    }
   ],
   "source": [
    "def consumer():\n",
    "\tr = ''\n",
    "\tprint('first consumer execution. 11111111111111111')\n",
    "\twhile True:\n",
    "\t\tn = yield r # receive n from send. But yield value immediately when arriving at the block\n",
    "\t\tprint('After yield')\n",
    "\t\tif not n:\n",
    "\t\t\treturn # terminate the generator\n",
    "\t\tprint('[Consumer] consumes %s...' % n)\n",
    "\t\tr = '200 OK'\n",
    "\n",
    "def produce(c):\n",
    "\tc.send(None) # make consumer block at n = yield r, when r is ''\n",
    "\tprint('first produce execution')\n",
    "\tn = 0\n",
    "\twhile n < 5:\n",
    "\t\tn = n + 1\n",
    "\t\tprint('[Producer] produces %s...' %n)\n",
    "\t\tr = c.send(n)\n",
    "\t\tprint('[Producer] consumer return: %s' %r)\n",
    "\tc.close()\n",
    "\n",
    "c = consumer()\n",
    "produce(c)"
   ]
  },
  {
   "cell_type": "code",
   "execution_count": 4,
   "metadata": {
    "collapsed": false
   },
   "outputs": [
    {
     "name": "stdout",
     "output_type": "stream",
     "text": [
      "Hello world! (<_MainThread(MainThread, started 175496)>) 2\n",
      "Hello world! (<_MainThread(MainThread, started 175496)>) 1\n",
      "Hello again! (<_MainThread(MainThread, started 175496)>) 2\n",
      "Hello again! (<_MainThread(MainThread, started 175496)>) 1\n"
     ]
    }
   ],
   "source": [
    "import threading\n",
    "import asyncio\n",
    "\n",
    "@asyncio.coroutine\n",
    "def hello(id):\n",
    "    print('Hello world! (%s) %s' % (threading.currentThread(), id))\n",
    "    yield from asyncio.sleep(1)\n",
    "    print('Hello again! (%s) %s' % (threading.currentThread(), id))\n",
    "\n",
    "loop = asyncio.get_event_loop()\n",
    "tasks = [hello(1), hello(2)]\n",
    "loop.run_until_complete(asyncio.wait(tasks))\n",
    "loop.close()"
   ]
  },
  {
   "cell_type": "code",
   "execution_count": 8,
   "metadata": {
    "collapsed": false
   },
   "outputs": [
    {
     "name": "stdout",
     "output_type": "stream",
     "text": [
      "Hello world! (<_MainThread(MainThread, started 35472)>) 2\n",
      "Hello world! (<_MainThread(MainThread, started 35472)>) 1\n",
      "Hello again! (<_MainThread(MainThread, started 35472)>) 2\n",
      "Hello again! (<_MainThread(MainThread, started 35472)>) 1\n"
     ]
    }
   ],
   "source": [
    "# remember to reset kernel in Ipython notebook\n",
    "import threading \n",
    "import asyncio\n",
    "\n",
    "async def hello(id):\n",
    "    print('Hello world! (%s) %s' % (threading.currentThread(), id))\n",
    "    await asyncio.sleep(1)\n",
    "    print('Hello again! (%s) %s' % (threading.currentThread(), id))\n",
    "\n",
    "asyncio.set_event_loop(asyncio.new_event_loop()) # If after close event loop above\n",
    "loop = asyncio.get_event_loop()\n",
    "tasks = [hello(1), hello(2)] #sequence random\n",
    "loop.run_until_complete(asyncio.wait(tasks))\n",
    "loop.close()"
   ]
  },
  {
   "cell_type": "code",
   "execution_count": 11,
   "metadata": {
    "collapsed": false
   },
   "outputs": [
    {
     "name": "stdout",
     "output_type": "stream",
     "text": [
      "wget www.163.com...\n",
      "wget www.sina.com.cn...\n",
      "wget www.sohu.com...\n",
      "www.163.com header > HTTP/1.0 302 Moved Temporarily\n",
      "www.sina.com.cn header > HTTP/1.1 200 OK\n",
      "www.sohu.com header > HTTP/1.1 200 OK\n",
      "www.163.com header > Server: Cdn Cache Server V2.0\n",
      "www.sina.com.cn header > Date: Fri, 19 May 2017 00:58:46 GMT\n",
      "www.sohu.com header > Content-Type: text/html;charset=utf-8\n",
      "www.163.com header > Date: Fri, 19 May 2017 00:58:46 GMT\n",
      "www.sina.com.cn header > Server: PWS/8.2.0.7\n",
      "www.sohu.com header > Content-Length: 133236\n",
      "www.163.com header > Content-Length: 0\n",
      "www.sina.com.cn header > X-Px: ht h0-s1025.p1-iad.cdngp.net\n",
      "www.sohu.com header > Connection: close\n",
      "www.163.com header > Location: http://www.163.com/special/0077jt/error_isp.html\n",
      "www.sina.com.cn header > Cache-Control: max-age=3600\n",
      "www.sohu.com header > Server: nginx\n",
      "www.163.com header > Connection: close\n",
      "www.sina.com.cn header > Expires: Fri, 19 May 2017 01:44:14 GMT\n",
      "www.sohu.com header > Date: Fri, 19 May 2017 00:58:44 GMT\n",
      "www.sina.com.cn header > Age: 872\n",
      "www.sohu.com header > Cache-Control: max-age=60\n",
      "www.sina.com.cn header > Content-Length: 588795\n",
      "www.sohu.com header > X-From-Sohu: X-SRC-Cached\n",
      "www.sina.com.cn header > Content-Type: text/html\n",
      "www.sohu.com header > FSS-Cache: HIT from 12550739.16613981.20352401\n",
      "www.sina.com.cn header > Last-Modified: Fri, 19 May 2017 00:39:45 GMT\n",
      "www.sohu.com header > Accept-Ranges: bytes\n",
      "www.sina.com.cn header > X-Via-CDN: f=TXCDN,s=66.114.52.21,c=69.203.133.198\n",
      "www.sohu.com header > FSS-Proxy: Powered by 9929259.11371061.17730881\n",
      "www.sina.com.cn header > Connection: close\n"
     ]
    }
   ],
   "source": [
    "import asyncio,threading\n",
    "async def wget(host):\n",
    "    print('wget %s...' % host)\n",
    "    connect = asyncio.open_connection(host, 80)\n",
    "    reader, writer = await connect\n",
    "    header = 'GET / HTTP/1.0\\r\\nHost: %s\\r\\n\\r\\n' % host\n",
    "    writer.write(header.encode('utf-8'))\n",
    "    await writer.drain()\n",
    "    while True:\n",
    "        line = await reader.readline()\n",
    "        await asyncio.sleep(1)\n",
    "        if line == b'\\r\\n':\n",
    "            break\n",
    "        print('%s header > %s' % (host, line.decode('utf-8').rstrip()))\n",
    "    # Ignore the body, close the socket\n",
    "    writer.close()\n",
    "\n",
    "asyncio.set_event_loop(asyncio.new_event_loop())\n",
    "loop = asyncio.get_event_loop()\n",
    "tasks = [wget(host) for host in ['www.sina.com.cn', 'www.sohu.com', 'www.163.com']]\n",
    "loop.run_until_complete(asyncio.wait(tasks))\n",
    "loop.close()"
   ]
  },
  {
   "cell_type": "code",
   "execution_count": null,
   "metadata": {
    "collapsed": false
   },
   "outputs": [
    {
     "name": "stdout",
     "output_type": "stream",
     "text": [
      "serving on ('127.0.0.1', 8001)\n"
     ]
    }
   ],
   "source": [
    "import asyncio\n",
    "from aiohttp import web\n",
    "\n",
    "async def index(request):\n",
    "\tawait asyncio.sleep(0.5)\n",
    "\treturn web.Response(body=b'<h1>Index</h1>', content_type = 'text/html')\n",
    "\n",
    "async def hello(request):\n",
    "\tawait asyncio.sleep(0.5)\n",
    "\ttext = '<h1>hello, %s!</h1>' % request.match_info['name']\n",
    "\treturn web.Response(body=text.encode('utf-8'), content_type = 'text/html')\n",
    "\n",
    "async def init(loop):\n",
    "\tapp = web.Application(loop=loop)\n",
    "\tapp.router.add_route('GET', '/', index)\n",
    "\t# Handler is an any callable that accepts a single Request argument and returns a StreamResponse derived (e.g. Response) instance.\n",
    "\tapp.router.add_route('GET', '/hello/{name}', hello)\n",
    "\tsrv = await loop.create_server(app.make_handler(), '127.0.0.1', 8001)\n",
    "\tprint('serving on', srv.sockets[0].getsockname())\n",
    "\treturn srv\n",
    "\n",
    "asyncio.set_event_loop(asyncio.new_event_loop())\n",
    "loop = asyncio.get_event_loop()\n",
    "loop.run_until_complete(init(loop))\n",
    "loop.run_forever()"
   ]
  },
  {
   "cell_type": "code",
   "execution_count": null,
   "metadata": {
    "collapsed": true
   },
   "outputs": [],
   "source": []
  }
 ],
 "metadata": {
  "kernelspec": {
   "display_name": "Python 3",
   "language": "python",
   "name": "python3"
  },
  "language_info": {
   "codemirror_mode": {
    "name": "ipython",
    "version": 3
   },
   "file_extension": ".py",
   "mimetype": "text/x-python",
   "name": "python",
   "nbconvert_exporter": "python",
   "pygments_lexer": "ipython3",
   "version": "3.6.0"
  }
 },
 "nbformat": 4,
 "nbformat_minor": 2
}
